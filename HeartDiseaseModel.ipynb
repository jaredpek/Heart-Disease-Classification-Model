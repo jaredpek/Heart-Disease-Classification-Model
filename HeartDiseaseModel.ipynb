{
 "cells": [
  {
   "cell_type": "markdown",
   "id": "d9b5ed42",
   "metadata": {},
   "source": [
    "## IMPORT TOOLS AND LIBRARIES"
   ]
  },
  {
   "cell_type": "code",
   "execution_count": 1,
   "id": "8555f321-18ae-40e3-b9cc-6aecaa6cdb5e",
   "metadata": {},
   "outputs": [],
   "source": [
    "import numpy as np\n",
    "import pandas as pd\n",
    "import matplotlib.pyplot as plt\n",
    "%matplotlib inline\n",
    "\n",
    "from sklearn.neighbors import KNeighborsClassifier\n",
    "from sklearn.ensemble import RandomForestClassifier\n",
    "from sklearn.linear_model import LogisticRegression\n",
    "\n",
    "from sklearn.model_selection import GridSearchCV\n",
    "from sklearn.metrics import accuracy_score, precision_score, recall_score, f1_score, roc_curve, roc_auc_score, classification_report, ConfusionMatrixDisplay\n",
    "\n",
    "from joblib import dump, load\n",
    "\n",
    "pd.set_option(\"display.width\", 1000000000)\n",
    "randomseed = 15"
   ]
  },
  {
   "cell_type": "markdown",
   "id": "3ce2434e",
   "metadata": {},
   "source": [
    "## DATA HANDLING"
   ]
  },
  {
   "cell_type": "markdown",
   "id": "671ce731",
   "metadata": {},
   "source": [
    "##### IMPORT AND SHUFFLE DATA"
   ]
  },
  {
   "cell_type": "code",
   "execution_count": 2,
   "id": "c605bce8",
   "metadata": {},
   "outputs": [],
   "source": [
    "heartDiseaseData = pd.read_csv(\"heart-disease.csv\")\n",
    "heartDisease = pd.DataFrame(heartDiseaseData).sample(frac=1, random_state=randomseed)\n",
    "heartDisease = heartDisease.drop(\"fbs\", axis=1)  # REMOVE DATA THAT DOES NOT CORRELATE WITH TARGET"
   ]
  },
  {
   "cell_type": "code",
   "execution_count": 3,
   "id": "520d6b02",
   "metadata": {},
   "outputs": [
    {
     "data": {
      "text/html": [
       "<div>\n",
       "<style scoped>\n",
       "    .dataframe tbody tr th:only-of-type {\n",
       "        vertical-align: middle;\n",
       "    }\n",
       "\n",
       "    .dataframe tbody tr th {\n",
       "        vertical-align: top;\n",
       "    }\n",
       "\n",
       "    .dataframe thead th {\n",
       "        text-align: right;\n",
       "    }\n",
       "</style>\n",
       "<table border=\"1\" class=\"dataframe\">\n",
       "  <thead>\n",
       "    <tr style=\"text-align: right;\">\n",
       "      <th></th>\n",
       "      <th>age</th>\n",
       "      <th>sex</th>\n",
       "      <th>cp</th>\n",
       "      <th>trestbps</th>\n",
       "      <th>chol</th>\n",
       "      <th>restecg</th>\n",
       "      <th>thalach</th>\n",
       "      <th>exang</th>\n",
       "      <th>oldpeak</th>\n",
       "      <th>slope</th>\n",
       "      <th>ca</th>\n",
       "      <th>thal</th>\n",
       "      <th>target</th>\n",
       "    </tr>\n",
       "  </thead>\n",
       "  <tbody>\n",
       "    <tr>\n",
       "      <th>201</th>\n",
       "      <td>60</td>\n",
       "      <td>1</td>\n",
       "      <td>0</td>\n",
       "      <td>125</td>\n",
       "      <td>258</td>\n",
       "      <td>0</td>\n",
       "      <td>141</td>\n",
       "      <td>1</td>\n",
       "      <td>2.8</td>\n",
       "      <td>1</td>\n",
       "      <td>1</td>\n",
       "      <td>3</td>\n",
       "      <td>0</td>\n",
       "    </tr>\n",
       "    <tr>\n",
       "      <th>197</th>\n",
       "      <td>67</td>\n",
       "      <td>1</td>\n",
       "      <td>0</td>\n",
       "      <td>125</td>\n",
       "      <td>254</td>\n",
       "      <td>1</td>\n",
       "      <td>163</td>\n",
       "      <td>0</td>\n",
       "      <td>0.2</td>\n",
       "      <td>1</td>\n",
       "      <td>2</td>\n",
       "      <td>3</td>\n",
       "      <td>0</td>\n",
       "    </tr>\n",
       "    <tr>\n",
       "      <th>64</th>\n",
       "      <td>58</td>\n",
       "      <td>1</td>\n",
       "      <td>2</td>\n",
       "      <td>140</td>\n",
       "      <td>211</td>\n",
       "      <td>0</td>\n",
       "      <td>165</td>\n",
       "      <td>0</td>\n",
       "      <td>0.0</td>\n",
       "      <td>2</td>\n",
       "      <td>0</td>\n",
       "      <td>2</td>\n",
       "      <td>1</td>\n",
       "    </tr>\n",
       "    <tr>\n",
       "      <th>134</th>\n",
       "      <td>41</td>\n",
       "      <td>0</td>\n",
       "      <td>1</td>\n",
       "      <td>126</td>\n",
       "      <td>306</td>\n",
       "      <td>1</td>\n",
       "      <td>163</td>\n",
       "      <td>0</td>\n",
       "      <td>0.0</td>\n",
       "      <td>2</td>\n",
       "      <td>0</td>\n",
       "      <td>2</td>\n",
       "      <td>1</td>\n",
       "    </tr>\n",
       "    <tr>\n",
       "      <th>145</th>\n",
       "      <td>70</td>\n",
       "      <td>1</td>\n",
       "      <td>1</td>\n",
       "      <td>156</td>\n",
       "      <td>245</td>\n",
       "      <td>0</td>\n",
       "      <td>143</td>\n",
       "      <td>0</td>\n",
       "      <td>0.0</td>\n",
       "      <td>2</td>\n",
       "      <td>0</td>\n",
       "      <td>2</td>\n",
       "      <td>1</td>\n",
       "    </tr>\n",
       "    <tr>\n",
       "      <th>...</th>\n",
       "      <td>...</td>\n",
       "      <td>...</td>\n",
       "      <td>...</td>\n",
       "      <td>...</td>\n",
       "      <td>...</td>\n",
       "      <td>...</td>\n",
       "      <td>...</td>\n",
       "      <td>...</td>\n",
       "      <td>...</td>\n",
       "      <td>...</td>\n",
       "      <td>...</td>\n",
       "      <td>...</td>\n",
       "      <td>...</td>\n",
       "    </tr>\n",
       "    <tr>\n",
       "      <th>199</th>\n",
       "      <td>65</td>\n",
       "      <td>1</td>\n",
       "      <td>0</td>\n",
       "      <td>110</td>\n",
       "      <td>248</td>\n",
       "      <td>0</td>\n",
       "      <td>158</td>\n",
       "      <td>0</td>\n",
       "      <td>0.6</td>\n",
       "      <td>2</td>\n",
       "      <td>2</td>\n",
       "      <td>1</td>\n",
       "      <td>0</td>\n",
       "    </tr>\n",
       "    <tr>\n",
       "      <th>155</th>\n",
       "      <td>58</td>\n",
       "      <td>0</td>\n",
       "      <td>0</td>\n",
       "      <td>130</td>\n",
       "      <td>197</td>\n",
       "      <td>1</td>\n",
       "      <td>131</td>\n",
       "      <td>0</td>\n",
       "      <td>0.6</td>\n",
       "      <td>1</td>\n",
       "      <td>0</td>\n",
       "      <td>2</td>\n",
       "      <td>1</td>\n",
       "    </tr>\n",
       "    <tr>\n",
       "      <th>156</th>\n",
       "      <td>47</td>\n",
       "      <td>1</td>\n",
       "      <td>2</td>\n",
       "      <td>130</td>\n",
       "      <td>253</td>\n",
       "      <td>1</td>\n",
       "      <td>179</td>\n",
       "      <td>0</td>\n",
       "      <td>0.0</td>\n",
       "      <td>2</td>\n",
       "      <td>0</td>\n",
       "      <td>2</td>\n",
       "      <td>1</td>\n",
       "    </tr>\n",
       "    <tr>\n",
       "      <th>133</th>\n",
       "      <td>41</td>\n",
       "      <td>1</td>\n",
       "      <td>1</td>\n",
       "      <td>110</td>\n",
       "      <td>235</td>\n",
       "      <td>1</td>\n",
       "      <td>153</td>\n",
       "      <td>0</td>\n",
       "      <td>0.0</td>\n",
       "      <td>2</td>\n",
       "      <td>0</td>\n",
       "      <td>2</td>\n",
       "      <td>1</td>\n",
       "    </tr>\n",
       "    <tr>\n",
       "      <th>245</th>\n",
       "      <td>48</td>\n",
       "      <td>1</td>\n",
       "      <td>0</td>\n",
       "      <td>124</td>\n",
       "      <td>274</td>\n",
       "      <td>0</td>\n",
       "      <td>166</td>\n",
       "      <td>0</td>\n",
       "      <td>0.5</td>\n",
       "      <td>1</td>\n",
       "      <td>0</td>\n",
       "      <td>3</td>\n",
       "      <td>0</td>\n",
       "    </tr>\n",
       "  </tbody>\n",
       "</table>\n",
       "<p>303 rows × 13 columns</p>\n",
       "</div>"
      ],
      "text/plain": [
       "     age  sex  cp  trestbps  chol  restecg  thalach  exang  oldpeak  slope  ca  thal  target\n",
       "201   60    1   0       125   258        0      141      1      2.8      1   1     3       0\n",
       "197   67    1   0       125   254        1      163      0      0.2      1   2     3       0\n",
       "64    58    1   2       140   211        0      165      0      0.0      2   0     2       1\n",
       "134   41    0   1       126   306        1      163      0      0.0      2   0     2       1\n",
       "145   70    1   1       156   245        0      143      0      0.0      2   0     2       1\n",
       "..   ...  ...  ..       ...   ...      ...      ...    ...      ...    ...  ..   ...     ...\n",
       "199   65    1   0       110   248        0      158      0      0.6      2   2     1       0\n",
       "155   58    0   0       130   197        1      131      0      0.6      1   0     2       1\n",
       "156   47    1   2       130   253        1      179      0      0.0      2   0     2       1\n",
       "133   41    1   1       110   235        1      153      0      0.0      2   0     2       1\n",
       "245   48    1   0       124   274        0      166      0      0.5      1   0     3       0\n",
       "\n",
       "[303 rows x 13 columns]"
      ]
     },
     "execution_count": 3,
     "metadata": {},
     "output_type": "execute_result"
    }
   ],
   "source": [
    "heartDisease"
   ]
  },
  {
   "cell_type": "markdown",
   "id": "ff82df48",
   "metadata": {},
   "source": [
    "##### SPLIT DATA INTO TRAIN, VALIDATION AND TEST SETS"
   ]
  },
  {
   "cell_type": "code",
   "execution_count": 4,
   "id": "63aa6490",
   "metadata": {},
   "outputs": [
    {
     "name": "stdout",
     "output_type": "stream",
     "text": [
      "Total Number of Rows in Data: 303\n",
      "Number of Rows in Training Data: 212\n",
      "Number of Rows in Validation Data: 46\n",
      "Number of Rows in Test Data: 45\n"
     ]
    }
   ],
   "source": [
    "train_index = round(0.7 * len(heartDisease))\n",
    "valid_index = round(0.85 * len(heartDisease))\n",
    "\n",
    "train_data = heartDisease.iloc[:train_index]\n",
    "valid_data = heartDisease.iloc[train_index:valid_index]\n",
    "test_data = heartDisease.iloc[valid_index:]\n",
    "\n",
    "print(f'''Total Number of Rows in Data: {len(heartDisease)}\n",
    "Number of Rows in Training Data: {len(train_data)}\n",
    "Number of Rows in Validation Data: {len(valid_data)}\n",
    "Number of Rows in Test Data: {len(test_data)}''')"
   ]
  },
  {
   "cell_type": "markdown",
   "id": "fe329115",
   "metadata": {},
   "source": [
    "##### SPLIT DATA INTO X AND Y"
   ]
  },
  {
   "cell_type": "code",
   "execution_count": 5,
   "id": "6724ae45",
   "metadata": {},
   "outputs": [],
   "source": [
    "X, y = heartDisease.drop(\"target\", axis=1), heartDisease[\"target\"]\n",
    "X_train, y_train = train_data.drop(\"target\", axis=1), train_data[\"target\"]\n",
    "X_valid, y_valid = valid_data.drop(\"target\", axis=1), valid_data[\"target\"]\n",
    "X_test, y_test = test_data.drop(\"target\", axis=1), test_data[\"target\"]"
   ]
  },
  {
   "cell_type": "markdown",
   "id": "833da5a1",
   "metadata": {},
   "source": [
    "## TRAIN AND CONDUCT INITIAL MODEL TEST"
   ]
  },
  {
   "cell_type": "markdown",
   "id": "f213caf7",
   "metadata": {},
   "source": [
    "##### TRAIN RANDOMFOREST MODEL"
   ]
  },
  {
   "cell_type": "code",
   "execution_count": 6,
   "id": "afb5447a",
   "metadata": {},
   "outputs": [
    {
     "data": {
      "text/plain": [
       "RandomForestClassifier(n_jobs=-1)"
      ]
     },
     "execution_count": 6,
     "metadata": {},
     "output_type": "execute_result"
    }
   ],
   "source": [
    "randForestModel = RandomForestClassifier(n_jobs=-1)\n",
    "randForestModel.fit(X_train, y_train)"
   ]
  },
  {
   "cell_type": "markdown",
   "id": "260da7b6",
   "metadata": {},
   "source": [
    "##### TRAIN KNEIGHBOURS MODEL"
   ]
  },
  {
   "cell_type": "code",
   "execution_count": 7,
   "id": "78c4fdbd",
   "metadata": {},
   "outputs": [
    {
     "data": {
      "text/plain": [
       "KNeighborsClassifier(n_jobs=-1)"
      ]
     },
     "execution_count": 7,
     "metadata": {},
     "output_type": "execute_result"
    }
   ],
   "source": [
    "kNeighbModel = KNeighborsClassifier(n_jobs=-1)\n",
    "kNeighbModel.fit(X_train, y_train)"
   ]
  },
  {
   "cell_type": "markdown",
   "id": "eadc91cc",
   "metadata": {},
   "source": [
    "##### TRAIN LOGISTIC REGRESSION MODEL"
   ]
  },
  {
   "cell_type": "code",
   "execution_count": 8,
   "id": "910d0e3f",
   "metadata": {},
   "outputs": [
    {
     "data": {
      "text/plain": [
       "LogisticRegression(n_jobs=-1)"
      ]
     },
     "execution_count": 8,
     "metadata": {},
     "output_type": "execute_result"
    }
   ],
   "source": [
    "logRegModel = LogisticRegression(n_jobs=-1)\n",
    "logRegModel.fit(X_train, y_train)"
   ]
  },
  {
   "cell_type": "markdown",
   "id": "f4f66037",
   "metadata": {},
   "source": [
    "##### CREATE FUNCTION TO EVALUATE MODELS"
   ]
  },
  {
   "cell_type": "code",
   "execution_count": 9,
   "id": "cfe5b269",
   "metadata": {},
   "outputs": [],
   "source": [
    "def evaluate_results(models, xtest, ytest):\n",
    "\n",
    "    model_accuracy = {}\n",
    "    model_precision = {}\n",
    "    model_recall = {}\n",
    "    model_f1 = {}\n",
    "    model_rocauc = {}\n",
    "\n",
    "    for name, model in models.items():\n",
    "        print(f\"Testing {name} Model...\")\n",
    "        ypred = model.predict(xtest)\n",
    "        model_accuracy[name] = accuracy_score(ytest, ypred)\n",
    "        model_precision[name] = precision_score(ytest, ypred)\n",
    "        model_recall[name] = recall_score(ytest, ypred)\n",
    "        model_f1[name] = f1_score(ytest, ypred)\n",
    "        model_rocauc[name] = roc_auc_score(ytest, ypred)\n",
    "    \n",
    "    return [model_accuracy, model_precision, model_recall, model_f1, model_rocauc]"
   ]
  },
  {
   "cell_type": "markdown",
   "id": "c438a1d5",
   "metadata": {},
   "source": [
    "##### INITIALISE MODELS"
   ]
  },
  {
   "cell_type": "code",
   "execution_count": 10,
   "id": "ad61f540",
   "metadata": {},
   "outputs": [],
   "source": [
    "initial_models = {\"RandomForestClassifier\": randForestModel,\n",
    "                  \"KNeighborsClassifier\": kNeighbModel,\n",
    "                  \"LogisticRegression\": logRegModel}"
   ]
  },
  {
   "cell_type": "markdown",
   "id": "0a0cbc35",
   "metadata": {},
   "source": [
    "##### INITIAL MODEL PARAMETERS"
   ]
  },
  {
   "cell_type": "code",
   "execution_count": 11,
   "id": "bb0bf661",
   "metadata": {},
   "outputs": [
    {
     "name": "stdout",
     "output_type": "stream",
     "text": [
      "RandomForestClassifier------------\n",
      "                         Parameters\n",
      "bootstrap                      True\n",
      "ccp_alpha                       0.0\n",
      "class_weight                   None\n",
      "criterion                      gini\n",
      "max_depth                      None\n",
      "max_features                   auto\n",
      "max_leaf_nodes                 None\n",
      "max_samples                    None\n",
      "min_impurity_decrease           0.0\n",
      "min_samples_leaf                  1\n",
      "min_samples_split                 2\n",
      "min_weight_fraction_leaf        0.0\n",
      "n_estimators                    100\n",
      "n_jobs                           -1\n",
      "oob_score                     False\n",
      "random_state                   None\n",
      "verbose                           0\n",
      "warm_start                    False\n",
      "\n",
      "KNeighborsClassifier--------------\n",
      "              Parameters\n",
      "algorithm           auto\n",
      "leaf_size             30\n",
      "metric         minkowski\n",
      "metric_params       None\n",
      "n_jobs                -1\n",
      "n_neighbors            5\n",
      "p                      2\n",
      "weights          uniform\n",
      "\n",
      "LogisticRegression----------------\n",
      "                  Parameters\n",
      "C                        1.0\n",
      "class_weight            None\n",
      "dual                   False\n",
      "fit_intercept           True\n",
      "intercept_scaling          1\n",
      "l1_ratio                None\n",
      "max_iter                 100\n",
      "multi_class             auto\n",
      "n_jobs                    -1\n",
      "penalty                   l2\n",
      "random_state            None\n",
      "solver                 lbfgs\n",
      "tol                   0.0001\n",
      "verbose                    0\n",
      "warm_start             False\n"
     ]
    }
   ],
   "source": [
    "print(f'''RandomForestClassifier------------\n",
    "{pd.DataFrame(initial_models[\"RandomForestClassifier\"].get_params(), index=[\"Parameters\"]).transpose()}\n",
    "\n",
    "KNeighborsClassifier--------------\n",
    "{pd.DataFrame(initial_models[\"KNeighborsClassifier\"].get_params(), index=[\"Parameters\"]).transpose()}\n",
    "\n",
    "LogisticRegression----------------\n",
    "{pd.DataFrame(initial_models[\"LogisticRegression\"].get_params(), index=[\"Parameters\"]).transpose()}''')"
   ]
  },
  {
   "cell_type": "markdown",
   "id": "ce6004b5",
   "metadata": {},
   "source": [
    "##### TRAIN MODELS AND CONDUCT INITIAL TEST"
   ]
  },
  {
   "cell_type": "code",
   "execution_count": 12,
   "id": "06e641f4",
   "metadata": {},
   "outputs": [
    {
     "name": "stdout",
     "output_type": "stream",
     "text": [
      "Testing RandomForestClassifier Model...\n",
      "Testing KNeighborsClassifier Model...\n",
      "Testing LogisticRegression Model...\n"
     ]
    }
   ],
   "source": [
    "initial_results = evaluate_results(initial_models, X_valid, y_valid)\n",
    "initial_results_DF = pd.DataFrame(initial_results, index=[\"Accuracy\", \"Precision\", \"Recall\", \"F1\", \"ROCAUC\"])"
   ]
  },
  {
   "cell_type": "markdown",
   "id": "55d773a9",
   "metadata": {},
   "source": [
    "##### CREATE FUNCTION TO VISUALISE TEST RESULTS"
   ]
  },
  {
   "cell_type": "code",
   "execution_count": 13,
   "id": "8347ead9",
   "metadata": {},
   "outputs": [],
   "source": [
    "def visualise_results(results):\n",
    "    print(results)\n",
    "    results_bar = results.plot.bar(figsize=(17, 8), xlabel=\"Scoring Method\", ylabel=\"Model Score\", title=\"Results of Models\")\n",
    "    results_bar.legend(title=\"Model Type\", bbox_to_anchor=(1.01, 1));"
   ]
  },
  {
   "cell_type": "markdown",
   "id": "3ed4cd74",
   "metadata": {},
   "source": [
    "##### VISUALISE AND COMPARE INITIAL TEST RESULTS"
   ]
  },
  {
   "cell_type": "code",
   "execution_count": 14,
   "id": "41b49878",
   "metadata": {},
   "outputs": [
    {
     "name": "stdout",
     "output_type": "stream",
     "text": [
      "Initial Test Results\n",
      "           RandomForestClassifier  KNeighborsClassifier  LogisticRegression\n",
      "Accuracy                 0.956522              0.565217            0.913043\n",
      "Precision                0.925926              0.586207            0.888889\n",
      "Recall                   1.000000              0.680000            0.960000\n",
      "F1                       0.961538              0.629630            0.923077\n",
      "ROCAUC                   0.952381              0.554286            0.908571\n"
     ]
    },
    {
     "data": {
      "image/png": "[encoded data removed]",
      "text/plain": [
       "<Figure size 1224x576 with 1 Axes>"
      ]
     },
     "metadata": {
      "needs_background": "light"
     },
     "output_type": "display_data"
    }
   ],
   "source": [
    "print(\"Initial Test Results\")\n",
    "visualise_results(initial_results_DF)"
   ]
  },
  {
   "cell_type": "markdown",
   "id": "54fdd2ec",
   "metadata": {},
   "source": [
    "## TUNE AND RE-TEST MODELS"
   ]
  },
  {
   "cell_type": "markdown",
   "id": "52307887",
   "metadata": {},
   "source": [
    "##### RANDOMFOREST CLASSIFIER MODEL"
   ]
  },
  {
   "cell_type": "code",
   "execution_count": 15,
   "id": "a10133dc",
   "metadata": {},
   "outputs": [
    {
     "name": "stdout",
     "output_type": "stream",
     "text": [
      "Fitting 5 folds for each of 108 candidates, totalling 540 fits\n"
     ]
    },
    {
     "data": {
      "text/plain": [
       "GridSearchCV(cv=5, estimator=RandomForestClassifier(n_jobs=-1), n_jobs=-1,\n",
       "             param_grid={'bootstrap': [True, False], 'max_depth': [3, 4, 5],\n",
       "                         'max_features': ['auto', 'sqrt'],\n",
       "                         'min_samples_split': [8, 9, 10],\n",
       "                         'n_estimators': [700, 800, 900]},\n",
       "             verbose=1)"
      ]
     },
     "execution_count": 15,
     "metadata": {},
     "output_type": "execute_result"
    }
   ],
   "source": [
    "gs_randForest_grid = {\"n_estimators\": [700, 800, 900],\n",
    "                      \"max_features\": [\"auto\", \"sqrt\"],\n",
    "                      \"max_depth\": [3, 4, 5],\n",
    "                      \"min_samples_split\": [8, 9, 10],\n",
    "                      \"bootstrap\": [True, False]}\n",
    "gs_randForest = GridSearchCV(estimator=initial_models[\"RandomForestClassifier\"],\n",
    "                             param_grid=gs_randForest_grid,\n",
    "                             cv=5,\n",
    "                             verbose=1,\n",
    "                             n_jobs=-1)\n",
    "gs_randForest.fit(X_train, y_train)"
   ]
  },
  {
   "cell_type": "markdown",
   "id": "54eb4c01",
   "metadata": {},
   "source": [
    "##### LOGISTIC REGRESSION MODEL"
   ]
  },
  {
   "cell_type": "code",
   "execution_count": 16,
   "id": "8200778d",
   "metadata": {},
   "outputs": [
    {
     "name": "stdout",
     "output_type": "stream",
     "text": [
      "Fitting 5 folds for each of 15 candidates, totalling 75 fits\n"
     ]
    },
    {
     "data": {
      "text/plain": [
       "GridSearchCV(cv=5, estimator=LogisticRegression(n_jobs=-1), n_jobs=-1,\n",
       "             param_grid={'C': [0.1, 0.3, 0.5],\n",
       "                         'max_iter': [45, 46, 47, 48, 49]},\n",
       "             verbose=1)"
      ]
     },
     "execution_count": 16,
     "metadata": {},
     "output_type": "execute_result"
    }
   ],
   "source": [
    "gs_logReg_grid = {\"C\": [0.1, 0.3, 0.5],\n",
    "                  \"max_iter\": [i for i in range(45, 50)]}\n",
    "gs_logReg = GridSearchCV(estimator=initial_models[\"LogisticRegression\"],\n",
    "                         param_grid=gs_logReg_grid,\n",
    "                         cv=5,\n",
    "                         verbose=1,\n",
    "                         n_jobs=-1)\n",
    "gs_logReg.fit(X_train, y_train)"
   ]
  },
  {
   "cell_type": "markdown",
   "id": "39a48dc9",
   "metadata": {},
   "source": [
    "##### KNEIGHBOURS MODEL\n",
    "- WILL NO LONGER BE USED AS IT SCORED TOO POORLY IN INITIAL TEST"
   ]
  },
  {
   "cell_type": "markdown",
   "id": "07daf6e8",
   "metadata": {},
   "source": [
    "##### INITIALISE TUNED MODELS"
   ]
  },
  {
   "cell_type": "code",
   "execution_count": 17,
   "id": "76c379c3",
   "metadata": {},
   "outputs": [],
   "source": [
    "tuned_models = {\"RandomForestClassifier\": gs_randForest,\n",
    "                \"LogisticRegression\": gs_logReg}"
   ]
  },
  {
   "cell_type": "markdown",
   "id": "4eca5063",
   "metadata": {},
   "source": [
    "##### TRAIN AND TEST TUNED MODELS"
   ]
  },
  {
   "cell_type": "code",
   "execution_count": 18,
   "id": "022ab69d",
   "metadata": {},
   "outputs": [
    {
     "name": "stdout",
     "output_type": "stream",
     "text": [
      "Testing RandomForestClassifier Model...\n",
      "Testing LogisticRegression Model...\n"
     ]
    }
   ],
   "source": [
    "tuned_results = evaluate_results(tuned_models, X_valid, y_valid)\n",
    "tuned_results_DF = pd.DataFrame(tuned_results, index=[\"Accuracy\", \"Precision\", \"Recall\", \"F1\", \"ROCAUC\"])"
   ]
  },
  {
   "cell_type": "markdown",
   "id": "f376d03a",
   "metadata": {},
   "source": [
    "##### VISUALISE TUNED RESULTS"
   ]
  },
  {
   "cell_type": "code",
   "execution_count": 19,
   "id": "6589f77d",
   "metadata": {},
   "outputs": [
    {
     "name": "stdout",
     "output_type": "stream",
     "text": [
      "Tuned Results:\n",
      "           RandomForestClassifier  LogisticRegression\n",
      "Accuracy                 0.934783            0.913043\n",
      "Precision                0.892857            0.862069\n",
      "Recall                   1.000000            1.000000\n",
      "F1                       0.943396            0.925926\n",
      "ROCAUC                   0.928571            0.904762\n"
     ]
    },
    {
     "data": {
      "image/png": "[encoded data removed]",
      "text/plain": [
       "<Figure size 1224x576 with 1 Axes>"
      ]
     },
     "metadata": {
      "needs_background": "light"
     },
     "output_type": "display_data"
    }
   ],
   "source": [
    "print(\"Tuned Results:\")\n",
    "visualise_results(tuned_results_DF)"
   ]
  },
  {
   "cell_type": "markdown",
   "id": "57e31488",
   "metadata": {},
   "source": [
    "##### BEST MODEL PARAMETERS"
   ]
  },
  {
   "cell_type": "code",
   "execution_count": 20,
   "id": "30407b66",
   "metadata": {},
   "outputs": [
    {
     "name": "stdout",
     "output_type": "stream",
     "text": [
      "RandomForestClassifier------------\n",
      "                  Parameters\n",
      "bootstrap               True\n",
      "max_depth                  3\n",
      "max_features            auto\n",
      "min_samples_split          8\n",
      "n_estimators             700\n",
      "LogisticRegression----------------\n",
      "          Parameters\n",
      "C                0.3\n",
      "max_iter        48.0\n"
     ]
    }
   ],
   "source": [
    "print(f'''RandomForestClassifier------------\n",
    "{pd.DataFrame(gs_randForest.best_params_, index=[\"Parameters\"]).transpose()}\n",
    "LogisticRegression----------------\n",
    "{pd.DataFrame(gs_logReg.best_params_, index=[\"Parameters\"]).transpose()}''')"
   ]
  },
  {
   "cell_type": "markdown",
   "id": "0f1c8730",
   "metadata": {},
   "source": [
    "## MODEL EVALUATION AND SUMMARY"
   ]
  },
  {
   "cell_type": "markdown",
   "id": "e8940325",
   "metadata": {},
   "source": [
    "##### INITIALISE THE FINAL MODEL\n",
    "- RANDOMFORESTCLASSIFIER WILL BE SELECTED AS THE FINAL MODEL SINCE IT OUTPERFORMS LOGISTICREGRESSION AFTER TUNING"
   ]
  },
  {
   "cell_type": "code",
   "execution_count": 21,
   "metadata": {},
   "outputs": [],
   "source": [
    "final_model = {\"RandomForestClassifier\": gs_randForest}"
   ]
  },
  {
   "cell_type": "markdown",
   "id": "9572e993",
   "metadata": {},
   "source": [
    "##### TEST FINAL MODEL"
   ]
  },
  {
   "cell_type": "code",
   "execution_count": 22,
   "id": "6684a55a",
   "metadata": {},
   "outputs": [
    {
     "name": "stdout",
     "output_type": "stream",
     "text": [
      "Testing RandomForestClassifier Model...\n"
     ]
    }
   ],
   "source": [
    "final_result = evaluate_results(final_model, X_test, y_test)\n",
    "final_result_DF = pd.DataFrame(final_result, index=[\"Accuracy\", \"Precision\", \"Recall\", \"F1\", \"ROCAUC\"])"
   ]
  },
  {
   "cell_type": "markdown",
   "id": "f8c94947",
   "metadata": {},
   "source": [
    "##### VISUALISE THE FINAL RESULTS OF THE MODEL"
   ]
  },
  {
   "cell_type": "code",
   "execution_count": 23,
   "id": "c57a641b",
   "metadata": {},
   "outputs": [
    {
     "name": "stdout",
     "output_type": "stream",
     "text": [
      "Final Results:\n",
      "           RandomForestClassifier\n",
      "Accuracy                 0.888889\n",
      "Precision                0.862069\n",
      "Recall                   0.961538\n",
      "F1                       0.909091\n",
      "ROCAUC                   0.875506\n"
     ]
    },
    {
     "data": {
      "image/png": "[encoded data removed]",
      "text/plain": [
       "<Figure size 1224x576 with 1 Axes>"
      ]
     },
     "metadata": {
      "needs_background": "light"
     },
     "output_type": "display_data"
    }
   ],
   "source": [
    "print(\"Final Results:\")\n",
    "visualise_results(final_result_DF)"
   ]
  },
  {
   "cell_type": "markdown",
   "id": "d45f7057",
   "metadata": {},
   "source": [
    "##### MODEL ROC CURVE"
   ]
  },
  {
   "cell_type": "code",
   "execution_count": 24,
   "id": "c139ad18",
   "metadata": {},
   "outputs": [
    {
     "data": {
      "image/png": "[encoded data removed]",
      "text/plain": [
       "<Figure size 432x288 with 1 Axes>"
      ]
     },
     "metadata": {
      "needs_background": "light"
     },
     "output_type": "display_data"
    }
   ],
   "source": [
    "y_pred_proba = gs_randForest.predict_proba(X_test)[:, 1]\n",
    "fpr, tpr, thresholds = roc_curve(y_test, y_pred_proba)\n",
    "plt.plot(fpr, tpr)\n",
    "plt.title(\"ROC Curve\")\n",
    "plt.xlabel(\"False Positive Rate\")\n",
    "plt.ylabel(\"True Positive Rate\");"
   ]
  },
  {
   "cell_type": "markdown",
   "id": "7ea3970b",
   "metadata": {},
   "source": [
    "##### MODEL CONFUSION MATRIX"
   ]
  },
  {
   "cell_type": "code",
   "execution_count": 25,
   "id": "94684aa4",
   "metadata": {},
   "outputs": [
    {
     "data": {
      "image/png": "[encoded data removed]",
      "text/plain": [
       "<Figure size 432x288 with 2 Axes>"
      ]
     },
     "metadata": {
      "needs_background": "light"
     },
     "output_type": "display_data"
    }
   ],
   "source": [
    "ConfusionMatrixDisplay.from_estimator(estimator=gs_logReg, X=X, y=y)\n",
    "plt.title(\"Confusion Matrix (From Estimators)\");"
   ]
  },
  {
   "cell_type": "markdown",
   "id": "a2f7c5ca",
   "metadata": {},
   "source": [
    "##### MODEL CLASSIFICATION REPORT"
   ]
  },
  {
   "cell_type": "code",
   "execution_count": 26,
   "id": "d56de5c2",
   "metadata": {},
   "outputs": [
    {
     "name": "stdout",
     "output_type": "stream",
     "text": [
      "              precision    recall  f1-score   support\n",
      "\n",
      "           0       0.94      0.79      0.86        19\n",
      "           1       0.86      0.96      0.91        26\n",
      "\n",
      "    accuracy                           0.89        45\n",
      "   macro avg       0.90      0.88      0.88        45\n",
      "weighted avg       0.89      0.89      0.89        45\n",
      "\n"
     ]
    }
   ],
   "source": [
    "ypred = gs_randForest.predict(X_test)\n",
    "print(classification_report(y_test, ypred))"
   ]
  },
  {
   "cell_type": "markdown",
   "id": "525075f4",
   "metadata": {},
   "source": [
    "## SAVE AND LOAD MODEL"
   ]
  },
  {
   "cell_type": "markdown",
   "id": "12e156c9",
   "metadata": {},
   "source": [
    "##### SAVE MODEL"
   ]
  },
  {
   "cell_type": "code",
   "execution_count": 27,
   "id": "744f81e0",
   "metadata": {},
   "outputs": [
    {
     "data": {
      "text/plain": [
       "['HeartDiseaseModel.joblib']"
      ]
     },
     "execution_count": 27,
     "metadata": {},
     "output_type": "execute_result"
    }
   ],
   "source": [
    "dump(gs_logReg, filename=\"HeartDiseaseModel.joblib\")"
   ]
  },
  {
   "cell_type": "markdown",
   "id": "1eba2493",
   "metadata": {},
   "source": [
    "##### LOAD MODEL"
   ]
  },
  {
   "cell_type": "code",
   "execution_count": 28,
   "id": "b2815308",
   "metadata": {},
   "outputs": [],
   "source": [
    "heartDiseaseModel = load(filename=\"HeartDiseaseModel.joblib\")"
   ]
  },
  {
   "cell_type": "markdown",
   "id": "47ca2c64",
   "metadata": {},
   "source": [
    "##### ENSURE MODEL LOADED SUCCESSFULLY"
   ]
  },
  {
   "cell_type": "code",
   "execution_count": 29,
   "id": "76a4e06d",
   "metadata": {},
   "outputs": [
    {
     "name": "stdout",
     "output_type": "stream",
     "text": [
      "              precision    recall  f1-score   support\n",
      "\n",
      "           0       0.89      0.84      0.86        19\n",
      "           1       0.89      0.92      0.91        26\n",
      "\n",
      "    accuracy                           0.89        45\n",
      "   macro avg       0.89      0.88      0.89        45\n",
      "weighted avg       0.89      0.89      0.89        45\n",
      "\n"
     ]
    }
   ],
   "source": [
    "loaded_model_ypred = heartDiseaseModel.predict(X_test)\n",
    "print(classification_report(y_test, loaded_model_ypred))"
   ]
  }
 ],
 "metadata": {
  "interpreter": {
   "hash": "82eae3c4778d1738b2e1b7ce53d66f36d91989bebe140e8fc210e118dd8980f2"
  },
  "kernelspec": {
   "display_name": "Python 3.9.2 ('venv': venv)",
   "language": "python",
   "name": "python3"
  },
  "language_info": {
   "codemirror_mode": {
    "name": "ipython",
    "version": 3
   },
   "file_extension": ".py",
   "mimetype": "text/x-python",
   "name": "python",
   "nbconvert_exporter": "python",
   "pygments_lexer": "ipython3",
   "version": "3.9.2"
  }
 },
 "nbformat": 4,
 "nbformat_minor": 5
}
