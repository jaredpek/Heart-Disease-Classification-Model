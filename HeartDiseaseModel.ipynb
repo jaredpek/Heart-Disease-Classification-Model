{
 "cells": [
  {
   "cell_type": "markdown",
   "id": "d9b5ed42",
   "metadata": {},
   "source": [
    "## IMPORT TOOLS AND LIBRARIES"
   ]
  },
  {
   "cell_type": "code",
   "execution_count": 131,
   "id": "8555f321-18ae-40e3-b9cc-6aecaa6cdb5e",
   "metadata": {},
   "outputs": [],
   "source": [
    "import numpy as np\n",
    "import pandas as pd\n",
    "import matplotlib.pyplot as plt\n",
    "%matplotlib inline\n",
    "\n",
    "from sklearn.model_selection import train_test_split, RandomizedSearchCV, GridSearchCV\n",
    "from sklearn.neighbors import KNeighborsClassifier\n",
    "from sklearn.ensemble import RandomForestClassifier\n",
    "from sklearn.linear_model import LogisticRegression\n",
    "from sklearn.metrics import accuracy_score, precision_score, recall_score, f1_score, roc_curve, roc_auc_score, classification_report, ConfusionMatrixDisplay\n",
    "\n",
    "from joblib import dump, load\n",
    "\n",
    "randomseed = 15"
   ]
  },
  {
   "cell_type": "markdown",
   "id": "3ce2434e",
   "metadata": {},
   "source": [
    "## DATA HANDLING"
   ]
  },
  {
   "cell_type": "markdown",
   "id": "671ce731",
   "metadata": {},
   "source": [
    "##### IMPORT AND SHUFFLE DATA"
   ]
  },
  {
   "cell_type": "code",
   "execution_count": 2,
   "id": "c605bce8",
   "metadata": {},
   "outputs": [
    {
     "name": "stdout",
     "output_type": "stream",
     "text": [
      "     age  sex  cp  trestbps  restecg  thalach  exang  oldpeak  slope  ca  \\\n",
      "201   60    1   0       125        0      141      1      2.8      1   1   \n",
      "197   67    1   0       125        1      163      0      0.2      1   2   \n",
      "64    58    1   2       140        0      165      0      0.0      2   0   \n",
      "134   41    0   1       126        1      163      0      0.0      2   0   \n",
      "145   70    1   1       156        0      143      0      0.0      2   0   \n",
      "..   ...  ...  ..       ...      ...      ...    ...      ...    ...  ..   \n",
      "199   65    1   0       110        0      158      0      0.6      2   2   \n",
      "155   58    0   0       130        1      131      0      0.6      1   0   \n",
      "156   47    1   2       130        1      179      0      0.0      2   0   \n",
      "133   41    1   1       110        1      153      0      0.0      2   0   \n",
      "245   48    1   0       124        0      166      0      0.5      1   0   \n",
      "\n",
      "     thal  target  \n",
      "201     3       0  \n",
      "197     3       0  \n",
      "64      2       1  \n",
      "134     2       1  \n",
      "145     2       1  \n",
      "..    ...     ...  \n",
      "199     1       0  \n",
      "155     2       1  \n",
      "156     2       1  \n",
      "133     2       1  \n",
      "245     3       0  \n",
      "\n",
      "[303 rows x 12 columns]\n"
     ]
    }
   ],
   "source": [
    "np.random.seed(randomseed)\n",
    "heartDiseaseData = pd.read_csv('heart-disease.csv')\n",
    "heartDisease = pd.DataFrame(heartDiseaseData).sample(frac=1)\n",
    "heartDisease = heartDisease.drop(['chol', 'fbs'], axis=1)  # REMOVE DATA THAT DOES NOT CORRELATE WITH TARGET\n",
    "print(heartDisease)"
   ]
  },
  {
   "cell_type": "markdown",
   "id": "ff82df48",
   "metadata": {},
   "source": [
    "##### SPLIT DATA"
   ]
  },
  {
   "cell_type": "code",
   "execution_count": 3,
   "id": "63aa6490",
   "metadata": {},
   "outputs": [
    {
     "name": "stdout",
     "output_type": "stream",
     "text": [
      "     age  sex  cp  trestbps  restecg  thalach  exang  oldpeak  slope  ca  thal\n",
      "201   60    1   0       125        0      141      1      2.8      1   1     3\n",
      "197   67    1   0       125        1      163      0      0.2      1   2     3\n",
      "64    58    1   2       140        0      165      0      0.0      2   0     2\n",
      "134   41    0   1       126        1      163      0      0.0      2   0     2\n",
      "145   70    1   1       156        0      143      0      0.0      2   0     2\n",
      "..   ...  ...  ..       ...      ...      ...    ...      ...    ...  ..   ...\n",
      "199   65    1   0       110        0      158      0      0.6      2   2     1\n",
      "155   58    0   0       130        1      131      0      0.6      1   0     2\n",
      "156   47    1   2       130        1      179      0      0.0      2   0     2\n",
      "133   41    1   1       110        1      153      0      0.0      2   0     2\n",
      "245   48    1   0       124        0      166      0      0.5      1   0     3\n",
      "\n",
      "[303 rows x 11 columns]\n",
      "201    0\n",
      "197    0\n",
      "64     1\n",
      "134    1\n",
      "145    1\n",
      "      ..\n",
      "199    0\n",
      "155    1\n",
      "156    1\n",
      "133    1\n",
      "245    0\n",
      "Name: target, Length: 303, dtype: int64\n"
     ]
    }
   ],
   "source": [
    "np.random.seed(randomseed)\n",
    "X = heartDisease.drop('target', axis=1)\n",
    "y = heartDisease['target']\n",
    "X_train, X_test, y_train, y_test = train_test_split(X, y, test_size=0.2)\n",
    "print(X)\n",
    "print(y)"
   ]
  },
  {
   "cell_type": "markdown",
   "id": "833da5a1",
   "metadata": {},
   "source": [
    "## TRAIN AND CONDUCT INITIAL MODEL TEST"
   ]
  },
  {
   "cell_type": "markdown",
   "id": "f4f66037",
   "metadata": {},
   "source": [
    "##### CREATE FUNCTION TO TRAIN AND TEST MODELS"
   ]
  },
  {
   "cell_type": "code",
   "execution_count": 89,
   "id": "cfe5b269",
   "metadata": {},
   "outputs": [],
   "source": [
    "def train_test_score(models, xtrain, xtest, ytrain, ytest):\n",
    "\n",
    "    model_accuracy = {}\n",
    "    model_precision = {}\n",
    "    model_recall = {}\n",
    "    model_f1 = {}\n",
    "\n",
    "    for name, model in models.items():\n",
    "        print(f'Testing {name} model...')\n",
    "        model.fit(xtrain, ytrain)\n",
    "        ypred = model.predict(xtest)\n",
    "        model_accuracy[name] = accuracy_score(ytest, ypred)\n",
    "        model_precision[name] = precision_score(ytest, ypred)\n",
    "        model_recall[name] = recall_score(ytest, ypred)\n",
    "        model_f1[name] = f1_score(ytest, ypred)\n",
    "    \n",
    "    return [model_accuracy, model_precision, model_recall, model_f1]"
   ]
  },
  {
   "cell_type": "markdown",
   "id": "c438a1d5",
   "metadata": {},
   "source": [
    "##### INITIALISE MODELS"
   ]
  },
  {
   "cell_type": "code",
   "execution_count": 90,
   "id": "ad61f540",
   "metadata": {},
   "outputs": [
    {
     "name": "stdout",
     "output_type": "stream",
     "text": [
      "                         RandomForestClassifier\n",
      "bootstrap                                  True\n",
      "ccp_alpha                                   0.0\n",
      "class_weight                               None\n",
      "criterion                                  gini\n",
      "max_depth                                  None\n",
      "max_features                               auto\n",
      "max_leaf_nodes                             None\n",
      "max_samples                                None\n",
      "min_impurity_decrease                       0.0\n",
      "min_samples_leaf                              1\n",
      "min_samples_split                             2\n",
      "min_weight_fraction_leaf                    0.0\n",
      "n_estimators                                100\n",
      "n_jobs                                       -1\n",
      "oob_score                                 False\n",
      "random_state                               None\n",
      "verbose                                       0\n",
      "warm_start                                False\n",
      "\n",
      "              KNeighborsClassifier\n",
      "algorithm                     auto\n",
      "leaf_size                       30\n",
      "metric                   minkowski\n",
      "metric_params                 None\n",
      "n_jobs                          -1\n",
      "n_neighbors                      5\n",
      "p                                2\n",
      "weights                    uniform\n",
      "\n",
      "                  LogisticRegression\n",
      "C                                1.0\n",
      "class_weight                    None\n",
      "dual                           False\n",
      "fit_intercept                   True\n",
      "intercept_scaling                  1\n",
      "l1_ratio                        None\n",
      "max_iter                         100\n",
      "multi_class                     auto\n",
      "n_jobs                            -1\n",
      "penalty                           l2\n",
      "random_state                    None\n",
      "solver                         lbfgs\n",
      "tol                           0.0001\n",
      "verbose                            0\n",
      "warm_start                     False\n",
      "\n"
     ]
    }
   ],
   "source": [
    "initial_models = {'RandomForestClassifier': RandomForestClassifier(n_jobs=-1),\n",
    "                  'KNeighborsClassifier': KNeighborsClassifier(n_jobs=-1),\n",
    "                  'LogisticRegression': LogisticRegression(n_jobs=-1)}\n",
    "                  \n",
    "print(f\"{pd.DataFrame(initial_models['RandomForestClassifier'].get_params(), index=['RandomForestClassifier']).transpose()}\\n\")\n",
    "print(f\"{pd.DataFrame(initial_models['KNeighborsClassifier'].get_params(), index=['KNeighborsClassifier']).transpose()}\\n\")\n",
    "print(f\"{pd.DataFrame(initial_models['LogisticRegression'].get_params(), index=['LogisticRegression']).transpose()}\\n\")"
   ]
  },
  {
   "cell_type": "markdown",
   "id": "ce6004b5",
   "metadata": {},
   "source": [
    "##### TRAIN MODELS AND CONDUCT INITIAL TEST"
   ]
  },
  {
   "cell_type": "code",
   "execution_count": 91,
   "id": "06e641f4",
   "metadata": {},
   "outputs": [
    {
     "name": "stdout",
     "output_type": "stream",
     "text": [
      "Testing RandomForestClassifier model...\n",
      "Testing KNeighborsClassifier model...\n",
      "Testing LogisticRegression model...\n"
     ]
    }
   ],
   "source": [
    "initial_results = pd.DataFrame(train_test_score(initial_models, X_train, X_test, y_train, y_test), index=['Accuracy', 'Precision', 'Recall', 'F1'])"
   ]
  },
  {
   "cell_type": "markdown",
   "id": "55d773a9",
   "metadata": {},
   "source": [
    "##### CREATE FUNCTION TO VISUALISE TEST RESULTS"
   ]
  },
  {
   "cell_type": "code",
   "execution_count": 92,
   "id": "8347ead9",
   "metadata": {},
   "outputs": [],
   "source": [
    "def visualise_results(results):\n",
    "    print(results)\n",
    "    results_bar = results.plot.bar(figsize=(17, 8), xlabel='Scoring Method', ylabel='Model Score', title='Results of Models')\n",
    "    results_bar.legend(title='Model Type', bbox_to_anchor=(1.01, 1));"
   ]
  },
  {
   "cell_type": "markdown",
   "id": "3ed4cd74",
   "metadata": {},
   "source": [
    "##### VISUALISE AND COMPARE INITIAL TEST RESULTS"
   ]
  },
  {
   "cell_type": "code",
   "execution_count": 93,
   "id": "41b49878",
   "metadata": {},
   "outputs": [
    {
     "name": "stdout",
     "output_type": "stream",
     "text": [
      "Initial Test Results\n",
      "           RandomForestClassifier  KNeighborsClassifier  LogisticRegression\n",
      "Accuracy                 0.852459              0.672131            0.885246\n",
      "Precision                0.864865              0.750000            0.891892\n",
      "Recall                   0.888889              0.666667            0.916667\n",
      "F1                       0.876712              0.705882            0.904110\n"
     ]
    },
    {
     "data": {
      "image/png": "[encoded data removed]",
      "text/plain": [
       "<Figure size 1224x576 with 1 Axes>"
      ]
     },
     "metadata": {
      "needs_background": "light"
     },
     "output_type": "display_data"
    }
   ],
   "source": [
    "print('Initial Test Results')\n",
    "visualise_results(initial_results)"
   ]
  },
  {
   "cell_type": "markdown",
   "id": "54fdd2ec",
   "metadata": {},
   "source": [
    "## TUNE AND RE-TEST MODELS"
   ]
  },
  {
   "cell_type": "markdown",
   "id": "52307887",
   "metadata": {},
   "source": [
    "##### RANDOMFOREST CLASSIFIER MODEL"
   ]
  },
  {
   "cell_type": "code",
   "execution_count": 94,
   "id": "a10133dc",
   "metadata": {},
   "outputs": [],
   "source": [
    "max_depth = [n for n in range(10, 200, 10)]\n",
    "max_depth.append(None)\n",
    "rs_randForest_grid = {'n_estimators': [n for n in range(500, 5000, 100)],\n",
    "                      'max_features': ['auto', 'sqrt'],\n",
    "                      'max_depth': max_depth,\n",
    "                      'min_samples_split': [n for n in range(2, 20, 2)],\n",
    "                      'min_samples_leaf': [n for n in range(1, 10, 2)],\n",
    "                      'bootstrap': [True, False]}\n",
    "rs_randForest = RandomizedSearchCV(estimator=initial_models['RandomForestClassifier'],\n",
    "                                   param_distributions=rs_randForest_grid,\n",
    "                                   n_iter=10,\n",
    "                                   cv=5,\n",
    "                                   verbose=3,\n",
    "                                   random_state=randomseed,\n",
    "                                   n_jobs=-1)"
   ]
  },
  {
   "cell_type": "markdown",
   "id": "54eb4c01",
   "metadata": {},
   "source": [
    "##### LOGISTIC REGRESSION MODEL"
   ]
  },
  {
   "cell_type": "code",
   "execution_count": 96,
   "id": "8200778d",
   "metadata": {},
   "outputs": [],
   "source": [
    "rs_logReg_grid = {'C': [0.001, 0.005, 0.01, 0.05, 0.1, 0.5, 1, 5, 10, 50, 100, 500, 1000],\n",
    "                  'max_iter': [n for n in range(50, 5000, 100)]}\n",
    "rs_logReg = RandomizedSearchCV(estimator=initial_models['LogisticRegression'],\n",
    "                               param_distributions=rs_logReg_grid,\n",
    "                               n_iter=10,\n",
    "                               cv=5,\n",
    "                               verbose=3,\n",
    "                               random_state=randomseed,\n",
    "                               n_jobs=-1)"
   ]
  },
  {
   "cell_type": "markdown",
   "id": "39a48dc9",
   "metadata": {},
   "source": [
    "##### KNEIGHBOURS MODEL\n",
    "- WILL NO LONGER BE USED AS IT SCORED TOO POORLY IN INITIAL TEST"
   ]
  },
  {
   "cell_type": "markdown",
   "id": "07daf6e8",
   "metadata": {},
   "source": [
    "##### INITIALISE TUNED MODELS"
   ]
  },
  {
   "cell_type": "code",
   "execution_count": 97,
   "id": "76c379c3",
   "metadata": {},
   "outputs": [],
   "source": [
    "tuned_models = {'RandomForestClassifier': rs_randForest,\n",
    "                'LogisticRegression': rs_logReg}"
   ]
  },
  {
   "cell_type": "markdown",
   "id": "4eca5063",
   "metadata": {},
   "source": [
    "##### TRAIN AND TEST TUNED MODELS"
   ]
  },
  {
   "cell_type": "code",
   "execution_count": 98,
   "id": "022ab69d",
   "metadata": {},
   "outputs": [
    {
     "name": "stdout",
     "output_type": "stream",
     "text": [
      "Testing RandomForestClassifier model...\n",
      "Fitting 5 folds for each of 10 candidates, totalling 50 fits\n",
      "Testing LogisticRegression model...\n",
      "Fitting 5 folds for each of 10 candidates, totalling 50 fits\n"
     ]
    }
   ],
   "source": [
    "tuned_results = train_test_score(tuned_models, X_train, X_test, y_train, y_test)"
   ]
  },
  {
   "cell_type": "code",
   "execution_count": 125,
   "id": "6589f77d",
   "metadata": {},
   "outputs": [
    {
     "name": "stdout",
     "output_type": "stream",
     "text": [
      "Tuned Results:\n",
      "           RandomForestClassifier  LogisticRegression\n",
      "Accuracy                 0.852459            0.885246\n",
      "Precision                0.864865            0.891892\n",
      "Recall                   0.888889            0.916667\n",
      "F1                       0.876712            0.904110\n",
      "\n",
      "Best Parameters for Models:\n",
      "\n",
      "                  RandomForestClassifier\n",
      "n_estimators                        2400\n",
      "min_samples_split                     16\n",
      "min_samples_leaf                       7\n",
      "max_features                        sqrt\n",
      "max_depth                             20\n",
      "bootstrap                           True\n",
      "\n",
      "          LogisticRegression\n",
      "max_iter                  50\n",
      "C                          1\n",
      "\n",
      "\n"
     ]
    },
    {
     "data": {
      "image/png": "[encoded data removed]",
      "text/plain": [
       "<Figure size 1224x576 with 1 Axes>"
      ]
     },
     "metadata": {
      "needs_background": "light"
     },
     "output_type": "display_data"
    }
   ],
   "source": [
    "print('Tuned Results:')\n",
    "visualise_results(pd.DataFrame(tuned_results, index=['Accuracy', 'Precision', 'Recall', 'F1']))\n",
    "\n",
    "randForBestParams = rs_randForest.best_params_\n",
    "logRegBestParams = rs_logReg.best_params_\n",
    "\n",
    "print(f'''\n",
    "Best Parameters for Models:\n",
    "\n",
    "{pd.DataFrame(randForBestParams, index=['RandomForestClassifier']).transpose()}\n",
    "\n",
    "{pd.DataFrame(logRegBestParams, index=['LogisticRegression']).transpose()}\n",
    "\n",
    "''')"
   ]
  },
  {
   "cell_type": "markdown",
   "id": "c8948dc5",
   "metadata": {},
   "source": [
    "## FINAL TUNE AND TEST OF MODEL"
   ]
  },
  {
   "cell_type": "markdown",
   "id": "afc4b463",
   "metadata": {},
   "source": [
    "##### RANDOMFOREST CLASSIFIER MODEL\n",
    "- WILL NO LONGER BE USED AS LOGISTIC REGRESSION MODEL PERFORMED BETTER"
   ]
  },
  {
   "cell_type": "markdown",
   "id": "3a797544",
   "metadata": {},
   "source": [
    "##### LOGISTIC REGRESSION MODEL"
   ]
  },
  {
   "cell_type": "code",
   "execution_count": 101,
   "id": "4c428733",
   "metadata": {},
   "outputs": [],
   "source": [
    "gs_logReg_grid = {'C': [0.01, 0.5, 1, 5, 10],\n",
    "                  'max_iter': [n for n in range(10, 100, 10)]}\n",
    "\n",
    "gs_logReg = GridSearchCV(estimator=initial_models['LogisticRegression'],\n",
    "                         param_grid=gs_logReg_grid,\n",
    "                         cv=5,\n",
    "                         verbose=3,\n",
    "                         n_jobs=-1)"
   ]
  },
  {
   "cell_type": "markdown",
   "id": "def4b03f",
   "metadata": {},
   "source": [
    "##### INITIALISE MODEL"
   ]
  },
  {
   "cell_type": "code",
   "execution_count": 102,
   "id": "a5e408f8",
   "metadata": {},
   "outputs": [],
   "source": [
    "final_model = {'LogisticRegression': gs_logReg}"
   ]
  },
  {
   "cell_type": "markdown",
   "id": "714bf2d4",
   "metadata": {},
   "source": [
    "##### TRAIN AND TEST MODEL"
   ]
  },
  {
   "cell_type": "code",
   "execution_count": 103,
   "id": "4fa38b38",
   "metadata": {},
   "outputs": [
    {
     "name": "stdout",
     "output_type": "stream",
     "text": [
      "Testing LogisticRegression model...\n",
      "Fitting 5 folds for each of 45 candidates, totalling 225 fits\n"
     ]
    }
   ],
   "source": [
    "final_result = train_test_score(final_model, X_train, X_test, y_train, y_test)"
   ]
  },
  {
   "cell_type": "code",
   "execution_count": 104,
   "id": "d104a241",
   "metadata": {},
   "outputs": [
    {
     "name": "stdout",
     "output_type": "stream",
     "text": [
      "Best Parameters\n",
      "          LogisticRegression\n",
      "C                        0.5\n",
      "max_iter                40.0\n"
     ]
    }
   ],
   "source": [
    "print('Best Parameters')\n",
    "print(pd.DataFrame(gs_logReg.best_params_, index=['LogisticRegression']).transpose())"
   ]
  },
  {
   "cell_type": "markdown",
   "id": "0f1c8730",
   "metadata": {},
   "source": [
    "## MODEL EVALUATION AND SUMMARY"
   ]
  },
  {
   "cell_type": "markdown",
   "id": "d9a84420",
   "metadata": {},
   "source": [
    "##### MODEL SCORE"
   ]
  },
  {
   "cell_type": "code",
   "execution_count": 124,
   "id": "0113d4e0",
   "metadata": {},
   "outputs": [
    {
     "name": "stdout",
     "output_type": "stream",
     "text": [
      "Final Score:\n",
      "           LogisticRegression\n",
      "Accuracy             0.885246\n",
      "Precision            0.891892\n",
      "Recall               0.916667\n",
      "F1                   0.904110\n",
      "RocAuc               0.878333\n"
     ]
    }
   ],
   "source": [
    "final_result = final_result[:4]\n",
    "ypred = gs_logReg.predict(X_test)\n",
    "model_RocAuc = {}\n",
    "model_RocAuc['LogisticRegression'] = roc_auc_score(y_test, ypred)\n",
    "final_result.append(model_RocAuc)\n",
    "print('Final Score:')\n",
    "print(pd.DataFrame(final_result, index=['Accuracy', 'Precision', 'Recall', 'F1', 'RocAuc']))"
   ]
  },
  {
   "cell_type": "markdown",
   "id": "d45f7057",
   "metadata": {},
   "source": [
    "##### MODEL ROC CURVE"
   ]
  },
  {
   "cell_type": "code",
   "execution_count": 110,
   "id": "c139ad18",
   "metadata": {},
   "outputs": [
    {
     "data": {
      "image/png": "[encoded data removed]",
      "text/plain": [
       "<Figure size 432x288 with 1 Axes>"
      ]
     },
     "metadata": {
      "needs_background": "light"
     },
     "output_type": "display_data"
    }
   ],
   "source": [
    "y_pred_proba = gs_logReg.predict_proba(X_test)[:, 1]\n",
    "fpr, tpr, thresholds = roc_curve(y_test, y_pred_proba)\n",
    "plt.plot(fpr, tpr)\n",
    "plt.title('ROC Curve')\n",
    "plt.xlabel('False Positive Rate')\n",
    "plt.ylabel('True Positive Rate');"
   ]
  },
  {
   "cell_type": "markdown",
   "id": "7ea3970b",
   "metadata": {},
   "source": [
    "##### MODEL CONFUSION MATRIX"
   ]
  },
  {
   "cell_type": "code",
   "execution_count": 111,
   "id": "94684aa4",
   "metadata": {},
   "outputs": [
    {
     "data": {
      "image/png": "[encoded data removed]",
      "text/plain": [
       "<Figure size 432x288 with 2 Axes>"
      ]
     },
     "metadata": {
      "needs_background": "light"
     },
     "output_type": "display_data"
    }
   ],
   "source": [
    "ConfusionMatrixDisplay.from_estimator(estimator=gs_logReg, X=X, y=y)\n",
    "plt.title('Confusion Matrix (From Estimators)');"
   ]
  },
  {
   "cell_type": "markdown",
   "id": "a2f7c5ca",
   "metadata": {},
   "source": [
    "##### MODEL CLASSIFICATION REPORT"
   ]
  },
  {
   "cell_type": "code",
   "execution_count": 112,
   "id": "d56de5c2",
   "metadata": {},
   "outputs": [
    {
     "name": "stdout",
     "output_type": "stream",
     "text": [
      "              precision    recall  f1-score   support\n",
      "\n",
      "           0       0.88      0.84      0.86        25\n",
      "           1       0.89      0.92      0.90        36\n",
      "\n",
      "    accuracy                           0.89        61\n",
      "   macro avg       0.88      0.88      0.88        61\n",
      "weighted avg       0.88      0.89      0.88        61\n",
      "\n"
     ]
    }
   ],
   "source": [
    "print(classification_report(y_test, ypred))"
   ]
  },
  {
   "cell_type": "markdown",
   "id": "525075f4",
   "metadata": {},
   "source": [
    "## SAVE AND LOAD MODEL"
   ]
  },
  {
   "cell_type": "markdown",
   "id": "12e156c9",
   "metadata": {},
   "source": [
    "##### SAVE MODEL"
   ]
  },
  {
   "cell_type": "code",
   "execution_count": 128,
   "id": "744f81e0",
   "metadata": {},
   "outputs": [
    {
     "data": {
      "text/plain": [
       "['HeartDiseaseModel.joblib']"
      ]
     },
     "execution_count": 128,
     "metadata": {},
     "output_type": "execute_result"
    }
   ],
   "source": [
    "dump(gs_logReg, filename='HeartDiseaseModel.joblib')"
   ]
  },
  {
   "cell_type": "markdown",
   "id": "1eba2493",
   "metadata": {},
   "source": [
    "##### LOAD MODEL"
   ]
  },
  {
   "cell_type": "code",
   "execution_count": 129,
   "id": "b2815308",
   "metadata": {},
   "outputs": [],
   "source": [
    "heartDiseaseModel = load(filename='HeartDiseaseModel.joblib')"
   ]
  },
  {
   "cell_type": "markdown",
   "id": "47ca2c64",
   "metadata": {},
   "source": [
    "##### ENSURE MODEL LOADED SUCCESSFULLY"
   ]
  },
  {
   "cell_type": "code",
   "execution_count": 130,
   "id": "76a4e06d",
   "metadata": {},
   "outputs": [
    {
     "name": "stdout",
     "output_type": "stream",
     "text": [
      "              precision    recall  f1-score   support\n",
      "\n",
      "           0       0.88      0.84      0.86        25\n",
      "           1       0.89      0.92      0.90        36\n",
      "\n",
      "    accuracy                           0.89        61\n",
      "   macro avg       0.88      0.88      0.88        61\n",
      "weighted avg       0.88      0.89      0.88        61\n",
      "\n"
     ]
    }
   ],
   "source": [
    "hDModel_ypred = heartDiseaseModel.predict(X_test)\n",
    "print(classification_report(y_test, hDModel_ypred))"
   ]
  }
 ],
 "metadata": {
  "kernelspec": {
   "display_name": "Python 3 (ipykernel)",
   "language": "python",
   "name": "python3"
  },
  "language_info": {
   "codemirror_mode": {
    "name": "ipython",
    "version": 3
   },
   "file_extension": ".py",
   "mimetype": "text/x-python",
   "name": "python",
   "nbconvert_exporter": "python",
   "pygments_lexer": "ipython3",
   "version": "3.9.2"
  }
 },
 "nbformat": 4,
 "nbformat_minor": 5
}
