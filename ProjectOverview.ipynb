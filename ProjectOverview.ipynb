{
 "cells": [
  {
   "cell_type": "markdown",
   "id": "2036658e-1de3-4820-b522-7f1310a02b39",
   "metadata": {},
   "source": [
    "## Project Description:\n",
    "- Create a Machine Learning Model to Predict Heart Disease in patients.\n",
    "- Model will classify patient as Heart Disease or No Heart Disease using the patient's medical data"
   ]
  },
  {
   "cell_type": "markdown",
   "id": "b5b8e821-d996-4ced-b6b0-2c07a3e72102",
   "metadata": {
    "tags": []
   },
   "source": [
    "## Project Approach:\n",
    "\n",
    "#### 1. Problem Definition\n",
    "    - Given a patient's medical attributes, classify the patient under 'Heart Disease' or 'No Heart Disease'\n",
    "#### 2. Data Details and Exploration\n",
    "    - Heart Disease Dataset Description:\n",
    "        - Original Data from https://archive.ics.uci.edu/ml/datasets/heart+disease\n",
    "    - Patterns between Columns in the Data\n",
    "        - Relationship between Sex and Heart Disease\n",
    "        - Relationship between Chest Pain Type and Heart Disease\n",
    "        - Age Distribution\n",
    "        - Relationship between Thalach and Age\n",
    "        - Data Correlation\n",
    "#### 3. Data Features\n",
    "    - Heart Disease Dataset Attributes:\n",
    "        - age (Age in Years)\n",
    "        - sex (Gender)\n",
    "            - 0 = Female\n",
    "            - 1 = Male\n",
    "        - cp (Chest Pain Type)\n",
    "            - 0 = Typical Angina\n",
    "            - 1 = Atypical Angina\n",
    "            - 2 = Non-Anignal Pain\n",
    "            - 3 = Asymptomatic\n",
    "        - trestbp (Resting Blood Pressure, in mmHg)\n",
    "        - chol (Serum Cholestoral, in mg/dl)\n",
    "        - fbs (Fasting Blood Sugar > 120mg/dl)\n",
    "            - 1 = True\n",
    "            - 0 = False\n",
    "        - restecg (Resting ECG Result)\n",
    "        - thalach (Maximum Heart Rate Achieved)\n",
    "        - exang (Exercised Induced Angina)\n",
    "            - 1 = Yes\n",
    "            - 0 = No\n",
    "        - oldpeak (ST Depression Induced by Exercise Relative to Rest)\n",
    "        - slope (Slope of the Peak Exercise ST Segment)\n",
    "            - 0 = Upsloping (Better Heart Rate with Exercise, Sign of a Very Healthy Heart)\n",
    "            - 1 = Flat (Minimal Change, Sign of a Typical Healthy Heart)\n",
    "            - 2 = Downloping (Sign of an Unhealthy Heart)\n",
    "        - ca (Number of Major Vessels colored by Flouosopy)\n",
    "            - Number from 0 to 3\n",
    "        - thal\n",
    "            - 3 = Normal\n",
    "            - 6 = Fixed Defect\n",
    "            - 7 = Reversable Defect\n",
    "        - target\n",
    "            - 1 = Heart Disease Present\n",
    "            - 0 = No Heart Disease\n",
    "    - Determine High Importance Features\n",
    "        - Correlation Matrix\n",
    "#### 4. Evaluation Metrics Description\n",
    "    - At least 85% Accuracy in Classification\n",
    "#### 5. Modelling\n",
    "    - Data Analysis and Manipulation:\n",
    "        - Pandas\n",
    "        - Numpy\n",
    "        - Matplotlib\n",
    "    - Scikit-Learn Models:\n",
    "        - KNeighbours Classifier\n",
    "        - RandomForest Classifier\n",
    "        - Logistic Regression\n",
    "    - Model Evaluation:\n",
    "        - Train_Test_Split\n",
    "        - Confusion Matrix\n",
    "        - Classification Report\n",
    "        - Precision Score\n",
    "        - Recall Score\n",
    "        - F1 Score\n",
    "        - ROC Curve\n",
    "        - ROC AUC Score\n",
    "    - Tuning Model:\n",
    "        - Manually\n",
    "        - RandomizedSearchCV\n",
    "        - GridSearchCV\n",
    "#### 6. Experimentation\n"
   ]
  }
 ],
 "metadata": {
  "kernelspec": {
   "display_name": "Python 3 (ipykernel)",
   "language": "python",
   "name": "python3"
  },
  "language_info": {
   "codemirror_mode": {
    "name": "ipython",
    "version": 3
   },
   "file_extension": ".py",
   "mimetype": "text/x-python",
   "name": "python",
   "nbconvert_exporter": "python",
   "pygments_lexer": "ipython3",
   "version": "3.9.2"
  }
 },
 "nbformat": 4,
 "nbformat_minor": 5
}
